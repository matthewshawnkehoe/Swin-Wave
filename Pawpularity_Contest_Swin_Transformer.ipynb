{
  "cells": [
    {
      "cell_type": "markdown",
      "source": [
        "# Pawpularity Contest with Swin Transformers\n",
        "![](https://storage.googleapis.com/kaggle-media/competitions/Petfinder/PetFinder%20-%20Logo.png)\n",
        "\n",
        "![](https://www.petfinder.my/images/cuteness_meter-showcase.jpg)\n",
        "\n",
        "\n",
        "## Introduction\n",
        "\n",
        "A picture is worth a thousand words. But did you know a picture can save a thousand lives? Millions of stray animals suffer on the streets or are euthanized in shelters every day around the world. You might expect pets with attractive photos to generate more interest and be adopted faster. But what makes a good picture? With the help of data science, you may be able to accurately determine a pet photo's appeal and even suggest improvements to give these rescue animals a higher chance of loving homes.\n",
        "\n",
        "[PetFinder.my](https://petfinder.my/) is Malaysia's leading animal welfare platform, featuring over 180,000 animals with 54,000 happily adopted. PetFinder collaborates closely with animal lovers, media, corporations, and global organizations to improve animal welfare.\n",
        "\n",
        "Currently, PetFinder.my uses a basic [Cuteness Meter](https://petfinder.my/cutenessmeter) to rank pet photos. It analyzes picture composition and other factors compared to the performance of thousands of pet profiles. While this basic tool is helpful, it's still in an experimental stage and the algorithm could be improved.\n",
        "\n",
        "In this competition, you'll analyze raw images and metadata to predict the “Pawpularity” of pet photos. You'll train and test your model on PetFinder.my's thousands of pet profiles."
      ],
      "metadata": {
        "id": "aPQb1UAXY6_7"
      },
      "id": "aPQb1UAXY6_7"
    },
    {
      "cell_type": "markdown",
      "source": [
        "![](https://www.petfinder.my/images/cuteness_meter.jpg)\n",
        "\n",
        "Image Source: [Petfinder.my](https://www.petfinder.my/images/cuteness_meter.jpg)"
      ],
      "metadata": {
        "id": "ug9dKyewYzsY"
      },
      "id": "ug9dKyewYzsY"
    },
    {
      "cell_type": "markdown",
      "source": [
        "## Table of Contents\n",
        "---\n",
        "- [Introduction](#Introduction)\n",
        "- [Exploratory Data Analysis](#Exploratory-Data-Analysis)\n",
        "- [Data Cleaning](#Data-Cleaning)\n",
        "- [Normalization and Standardization](#Normalization-and-Standardization)\n",
        "- [Data Visualization](#Data-Visualization)\n",
        "- [Model Preparation](#Model-Preparation)\n",
        "- [Model Results](#Model-Results)\n",
        "  - [Linear Regression](#Linear-Regression)\n",
        "  - [KNN](#KNN)\n",
        "  - [Random Forest](#Random-Forest)\n",
        "  - [Support Vector Machine](#Support-Vector-Machine)\n",
        "  - [Gradient Boosting](#Gradient-Boosting)\n",
        "- [Best Performing Model](#Best-Performing-Model)  \n",
        "- [Partial Dependence Plots](#Partial-Dependence-Plots)\n",
        "- [Discussion and Recommendations](#Discussion-and-Recommendations)"
      ],
      "metadata": {
        "id": "fmaM4VmRfOnb"
      },
      "id": "fmaM4VmRfOnb"
    },
    {
      "cell_type": "code",
      "execution_count": null,
      "id": "13894d94",
      "metadata": {
        "_cell_guid": "b1076dfc-b9ad-4769-8c92-a6c4dae69d19",
        "_uuid": "8f2839f25d086af736a60e9eeb907d3b93b6e0e5",
        "execution": {
          "iopub.execute_input": "2022-01-13T13:40:36.106018Z",
          "iopub.status.busy": "2022-01-13T13:40:36.104552Z",
          "iopub.status.idle": "2022-01-13T13:40:36.114780Z",
          "shell.execute_reply": "2022-01-13T13:40:36.114306Z",
          "shell.execute_reply.started": "2022-01-13T13:30:42.634193Z"
        },
        "papermill": {
          "duration": 0.02752,
          "end_time": "2022-01-13T13:40:36.114907",
          "exception": false,
          "start_time": "2022-01-13T13:40:36.087387",
          "status": "completed"
        },
        "scrolled": true,
        "tags": [],
        "id": "13894d94"
      },
      "outputs": [],
      "source": [
        "from pathlib import Path\n",
        "dataset_path = Path('../input/petfinder-pawpularity-score/')"
      ]
    },
    {
      "cell_type": "code",
      "execution_count": null,
      "id": "ad7ef73b",
      "metadata": {
        "execution": {
          "iopub.execute_input": "2022-01-13T13:40:36.162338Z",
          "iopub.status.busy": "2022-01-13T13:40:36.161540Z",
          "iopub.status.idle": "2022-01-13T13:40:36.169858Z",
          "shell.execute_reply": "2022-01-13T13:40:36.169245Z",
          "shell.execute_reply.started": "2022-01-13T13:30:42.646716Z"
        },
        "papermill": {
          "duration": 0.038534,
          "end_time": "2022-01-13T13:40:36.170046",
          "exception": false,
          "start_time": "2022-01-13T13:40:36.131512",
          "status": "completed"
        },
        "tags": [],
        "id": "ad7ef73b"
      },
      "outputs": [],
      "source": [
        "N_FOLDS = 10\n",
        "FOLDS = range(N_FOLDS)\n",
        "TRAIN_BATCH_SIZE = 32\n",
        "VALID_BATCH_SIZE = TRAIN_BATCH_SIZE\n",
        "GRADIENT_ACCUMULATION = 1\n",
        "IMAGE_SIZE = 384\n",
        "BACKBONE = 'swin_large_patch4_window12_384'\n",
        "MAX_LR = 2e-5\n",
        "DECAY = 0.1\n",
        "EPOCHS = 5\n",
        "WORKERS = 2\n",
        "VERBOSE = None\n",
        "MIXUP = 0.3\n",
        "NUM_TARGET = 50\n",
        "\n",
        "IMAGENET_DEFAULT_MEAN = (0.485, 0.456, 0.406)\n",
        "IMAGENET_DEFAULT_STD = (0.229, 0.224, 0.225)"
      ]
    },
    {
      "cell_type": "markdown",
      "source": [
        "We start by importing the necessary libraries."
      ],
      "metadata": {
        "id": "bQcwfI8Xgch3"
      },
      "id": "bQcwfI8Xgch3"
    },
    {
      "cell_type": "code",
      "execution_count": null,
      "id": "aa458473",
      "metadata": {
        "execution": {
          "iopub.execute_input": "2022-01-13T13:40:36.226252Z",
          "iopub.status.busy": "2022-01-13T13:40:36.225670Z",
          "iopub.status.idle": "2022-01-13T13:40:39.491508Z",
          "shell.execute_reply": "2022-01-13T13:40:39.490993Z",
          "shell.execute_reply.started": "2022-01-13T13:30:42.658760Z"
        },
        "papermill": {
          "duration": 3.301444,
          "end_time": "2022-01-13T13:40:39.491644",
          "exception": false,
          "start_time": "2022-01-13T13:40:36.190200",
          "status": "completed"
        },
        "tags": [],
        "id": "aa458473"
      },
      "outputs": [],
      "source": [
        "import numpy as np\n",
        "import pandas as pd\n",
        "import pickle as pkl\n",
        "import matplotlib.pyplot as plt\n",
        "%matplotlib inline\n",
        "import json\n",
        "from tqdm import tqdm\n",
        "import random\n",
        "import time\n",
        "import gc\n",
        "\n",
        "from scipy.special import expit, logit, softmax\n",
        "from sklearn.model_selection import KFold\n",
        "from skimage.transform import rescale, resize, downscale_local_mean\n",
        "import cv2\n",
        "import albumentations\n",
        "\n",
        "import torch\n",
        "import torch.nn as nn\n",
        "import torch.nn.functional as F\n",
        "from torch.utils.data import DataLoader, Dataset, WeightedRandomSampler\n",
        "from torch.cuda.amp import autocast, GradScaler\n",
        "\n"
      ]
    },
    {
      "cell_type": "code",
      "execution_count": null,
      "id": "f96805a3",
      "metadata": {
        "execution": {
          "iopub.execute_input": "2022-01-13T13:40:39.520928Z",
          "iopub.status.busy": "2022-01-13T13:40:39.520419Z",
          "iopub.status.idle": "2022-01-13T13:40:41.070025Z",
          "shell.execute_reply": "2022-01-13T13:40:41.070800Z",
          "shell.execute_reply.started": "2022-01-13T13:30:44.636881Z"
        },
        "papermill": {
          "duration": 1.566572,
          "end_time": "2022-01-13T13:40:41.070977",
          "exception": false,
          "start_time": "2022-01-13T13:40:39.504405",
          "status": "completed"
        },
        "tags": [],
        "id": "f96805a3"
      },
      "outputs": [],
      "source": [
        "import sys\n",
        "sys.path.append('../input/timm-pytorch-image-models/pytorch-image-models-master')\n",
        "import timm"
      ]
    },
    {
      "cell_type": "code",
      "execution_count": null,
      "id": "9760c974",
      "metadata": {
        "execution": {
          "iopub.execute_input": "2022-01-13T13:40:41.101867Z",
          "iopub.status.busy": "2022-01-13T13:40:41.101049Z",
          "iopub.status.idle": "2022-01-13T13:40:41.103091Z",
          "shell.execute_reply": "2022-01-13T13:40:41.103450Z",
          "shell.execute_reply.started": "2022-01-13T13:30:45.692761Z"
        },
        "papermill": {
          "duration": 0.020209,
          "end_time": "2022-01-13T13:40:41.103597",
          "exception": false,
          "start_time": "2022-01-13T13:40:41.083388",
          "status": "completed"
        },
        "tags": [],
        "id": "9760c974"
      },
      "outputs": [],
      "source": [
        "def seed_torch(seed_value):\n",
        "    random.seed(seed_value) # Python\n",
        "    np.random.seed(seed_value) # cpu vars\n",
        "    torch.manual_seed(seed_value) # cpu  vars\n",
        "    if torch.cuda.is_available():\n",
        "        torch.cuda.manual_seed(seed_value)\n",
        "        torch.cuda.manual_seed_all(seed_value) # gpu vars\n",
        "    if torch.backends.cudnn.is_available:\n",
        "        torch.backends.cudnn.deterministic = True\n",
        "        torch.backends.cudnn.benchmark = False"
      ]
    },
    {
      "cell_type": "code",
      "execution_count": null,
      "id": "ff93ba75",
      "metadata": {
        "execution": {
          "iopub.execute_input": "2022-01-13T13:40:41.133786Z",
          "iopub.status.busy": "2022-01-13T13:40:41.133210Z",
          "iopub.status.idle": "2022-01-13T13:40:41.136939Z",
          "shell.execute_reply": "2022-01-13T13:40:41.136474Z",
          "shell.execute_reply.started": "2022-01-13T13:30:45.701045Z"
        },
        "papermill": {
          "duration": 0.021394,
          "end_time": "2022-01-13T13:40:41.137075",
          "exception": false,
          "start_time": "2022-01-13T13:40:41.115681",
          "status": "completed"
        },
        "tags": [],
        "id": "ff93ba75"
      },
      "outputs": [],
      "source": [
        "valid_transforms = albumentations.Compose([\n",
        "    albumentations.CenterCrop(IMAGE_SIZE, IMAGE_SIZE, always_apply=True, p=1),\n",
        "    albumentations.Normalize(mean=IMAGENET_DEFAULT_MEAN, std=IMAGENET_DEFAULT_STD, max_pixel_value=1., always_apply=True, p=1),\n",
        "])\n"
      ]
    },
    {
      "cell_type": "code",
      "execution_count": null,
      "id": "34152eef",
      "metadata": {
        "execution": {
          "iopub.execute_input": "2022-01-13T13:40:41.177328Z",
          "iopub.status.busy": "2022-01-13T13:40:41.176476Z",
          "iopub.status.idle": "2022-01-13T13:40:41.179114Z",
          "shell.execute_reply": "2022-01-13T13:40:41.178683Z",
          "shell.execute_reply.started": "2022-01-13T13:30:45.715287Z"
        },
        "papermill": {
          "duration": 0.029049,
          "end_time": "2022-01-13T13:40:41.179223",
          "exception": false,
          "start_time": "2022-01-13T13:40:41.150174",
          "status": "completed"
        },
        "tags": [],
        "id": "34152eef"
      },
      "outputs": [],
      "source": [
        "def load_image(path):\n",
        "    #path = f'../input/petfinder-pawpularity-score/train/{id}.jpg'\n",
        "    image = cv2.imread(path)\n",
        "    image = cv2.cvtColor(image, cv2.COLOR_BGR2RGB)\n",
        "    return image\n",
        "\n",
        "class PetDataset(Dataset):\n",
        "    def __init__(self,\n",
        "                 data,\n",
        "                 image_size,\n",
        "                 target=True,\n",
        "                 aug=None,\n",
        "                 channel_first=True,\n",
        "                ):\n",
        "        super(PetDataset, self).__init__()\n",
        "        self.data = data\n",
        "        self.image_size = image_size\n",
        "        self.target = target\n",
        "        self.aug = aug\n",
        "        self.channel_first = channel_first\n",
        "\n",
        "    def __len__(self):\n",
        "        return len(self.data)\n",
        "\n",
        "    def __getitem__(self, idx):\n",
        "        image = load_image(self.data.path[idx])\n",
        "        image = image.astype('float32')\n",
        "        image /= 255.\n",
        "        h, w, c = image.shape\n",
        "        if h > w:\n",
        "            image = resize(image, (int(round(self.image_size * h / w)), self.image_size), preserve_range=True, anti_aliasing=True)\n",
        "        else:\n",
        "            image = resize(image, (self.image_size, int(round(self.image_size * w / h))), preserve_range=True, anti_aliasing=True)\n",
        "        if self.aug is not None:\n",
        "            this = self.aug(image=image)\n",
        "            image = this['image']\n",
        "        if self.channel_first:\n",
        "            image = image.transpose(2, 0, 1)\n",
        "        target = 0\n",
        "        binary_target = 0\n",
        "        if self.target:\n",
        "            target = self.data.norm_score[idx]\n",
        "            binary_target = int(round(target * NUM_TARGET))\n",
        "        return {'image':torch.tensor(image, dtype=torch.half),\n",
        "                'target':torch.tensor([target], dtype=torch.half),\n",
        "                'binary_target':torch.tensor([binary_target], dtype=torch.long),\n",
        "               }"
      ]
    },
    {
      "cell_type": "code",
      "execution_count": null,
      "id": "1c8d9026",
      "metadata": {
        "execution": {
          "iopub.execute_input": "2022-01-13T13:40:41.210377Z",
          "iopub.status.busy": "2022-01-13T13:40:41.209748Z",
          "iopub.status.idle": "2022-01-13T13:40:41.239293Z",
          "shell.execute_reply": "2022-01-13T13:40:41.239711Z",
          "shell.execute_reply.started": "2022-01-13T13:30:45.730807Z"
        },
        "papermill": {
          "duration": 0.047356,
          "end_time": "2022-01-13T13:40:41.239831",
          "exception": false,
          "start_time": "2022-01-13T13:40:41.192475",
          "status": "completed"
        },
        "tags": [],
        "id": "1c8d9026",
        "outputId": "93f97fb6-4eba-444e-a4cd-1883d9339723"
      },
      "outputs": [
        {
          "data": {
            "text/html": [
              "<div>\n",
              "<style scoped>\n",
              "    .dataframe tbody tr th:only-of-type {\n",
              "        vertical-align: middle;\n",
              "    }\n",
              "\n",
              "    .dataframe tbody tr th {\n",
              "        vertical-align: top;\n",
              "    }\n",
              "\n",
              "    .dataframe thead th {\n",
              "        text-align: right;\n",
              "    }\n",
              "</style>\n",
              "<table border=\"1\" class=\"dataframe\">\n",
              "  <thead>\n",
              "    <tr style=\"text-align: right;\">\n",
              "      <th></th>\n",
              "      <th>Id</th>\n",
              "      <th>Subject Focus</th>\n",
              "      <th>Eyes</th>\n",
              "      <th>Face</th>\n",
              "      <th>Near</th>\n",
              "      <th>Action</th>\n",
              "      <th>Accessory</th>\n",
              "      <th>Group</th>\n",
              "      <th>Collage</th>\n",
              "      <th>Human</th>\n",
              "      <th>Occlusion</th>\n",
              "      <th>Info</th>\n",
              "      <th>Blur</th>\n",
              "      <th>Pawpularity</th>\n",
              "      <th>path</th>\n",
              "    </tr>\n",
              "  </thead>\n",
              "  <tbody>\n",
              "    <tr>\n",
              "      <th>0</th>\n",
              "      <td>4128bae22183829d2b5fea10effdb0c3</td>\n",
              "      <td>1</td>\n",
              "      <td>0</td>\n",
              "      <td>1</td>\n",
              "      <td>0</td>\n",
              "      <td>0</td>\n",
              "      <td>1</td>\n",
              "      <td>1</td>\n",
              "      <td>0</td>\n",
              "      <td>0</td>\n",
              "      <td>1</td>\n",
              "      <td>0</td>\n",
              "      <td>1</td>\n",
              "      <td>1</td>\n",
              "      <td>../input/petfinder-pawpularity-score/test/4128...</td>\n",
              "    </tr>\n",
              "    <tr>\n",
              "      <th>1</th>\n",
              "      <td>43a2262d7738e3d420d453815151079e</td>\n",
              "      <td>0</td>\n",
              "      <td>1</td>\n",
              "      <td>0</td>\n",
              "      <td>0</td>\n",
              "      <td>0</td>\n",
              "      <td>0</td>\n",
              "      <td>1</td>\n",
              "      <td>1</td>\n",
              "      <td>0</td>\n",
              "      <td>0</td>\n",
              "      <td>0</td>\n",
              "      <td>0</td>\n",
              "      <td>1</td>\n",
              "      <td>../input/petfinder-pawpularity-score/test/43a2...</td>\n",
              "    </tr>\n",
              "    <tr>\n",
              "      <th>2</th>\n",
              "      <td>4e429cead1848a298432a0acad014c9d</td>\n",
              "      <td>0</td>\n",
              "      <td>0</td>\n",
              "      <td>0</td>\n",
              "      <td>1</td>\n",
              "      <td>0</td>\n",
              "      <td>1</td>\n",
              "      <td>1</td>\n",
              "      <td>1</td>\n",
              "      <td>0</td>\n",
              "      <td>1</td>\n",
              "      <td>1</td>\n",
              "      <td>1</td>\n",
              "      <td>1</td>\n",
              "      <td>../input/petfinder-pawpularity-score/test/4e42...</td>\n",
              "    </tr>\n",
              "    <tr>\n",
              "      <th>3</th>\n",
              "      <td>80bc3ccafcc51b66303c2c263aa38486</td>\n",
              "      <td>1</td>\n",
              "      <td>0</td>\n",
              "      <td>1</td>\n",
              "      <td>0</td>\n",
              "      <td>0</td>\n",
              "      <td>0</td>\n",
              "      <td>0</td>\n",
              "      <td>0</td>\n",
              "      <td>0</td>\n",
              "      <td>0</td>\n",
              "      <td>1</td>\n",
              "      <td>0</td>\n",
              "      <td>1</td>\n",
              "      <td>../input/petfinder-pawpularity-score/test/80bc...</td>\n",
              "    </tr>\n",
              "    <tr>\n",
              "      <th>4</th>\n",
              "      <td>8f49844c382931444e68dffbe20228f4</td>\n",
              "      <td>1</td>\n",
              "      <td>1</td>\n",
              "      <td>1</td>\n",
              "      <td>0</td>\n",
              "      <td>1</td>\n",
              "      <td>1</td>\n",
              "      <td>0</td>\n",
              "      <td>1</td>\n",
              "      <td>0</td>\n",
              "      <td>1</td>\n",
              "      <td>1</td>\n",
              "      <td>0</td>\n",
              "      <td>1</td>\n",
              "      <td>../input/petfinder-pawpularity-score/test/8f49...</td>\n",
              "    </tr>\n",
              "    <tr>\n",
              "      <th>5</th>\n",
              "      <td>b03f7041962238a7c9d6537e22f9b017</td>\n",
              "      <td>0</td>\n",
              "      <td>0</td>\n",
              "      <td>1</td>\n",
              "      <td>1</td>\n",
              "      <td>1</td>\n",
              "      <td>1</td>\n",
              "      <td>1</td>\n",
              "      <td>1</td>\n",
              "      <td>1</td>\n",
              "      <td>0</td>\n",
              "      <td>1</td>\n",
              "      <td>0</td>\n",
              "      <td>1</td>\n",
              "      <td>../input/petfinder-pawpularity-score/test/b03f...</td>\n",
              "    </tr>\n",
              "    <tr>\n",
              "      <th>6</th>\n",
              "      <td>c978013571258ed6d4637f6e8cc9d6a3</td>\n",
              "      <td>1</td>\n",
              "      <td>0</td>\n",
              "      <td>0</td>\n",
              "      <td>0</td>\n",
              "      <td>1</td>\n",
              "      <td>1</td>\n",
              "      <td>0</td>\n",
              "      <td>1</td>\n",
              "      <td>0</td>\n",
              "      <td>1</td>\n",
              "      <td>1</td>\n",
              "      <td>1</td>\n",
              "      <td>1</td>\n",
              "      <td>../input/petfinder-pawpularity-score/test/c978...</td>\n",
              "    </tr>\n",
              "    <tr>\n",
              "      <th>7</th>\n",
              "      <td>e0de453c1bffc20c22b072b34b54e50f</td>\n",
              "      <td>1</td>\n",
              "      <td>0</td>\n",
              "      <td>1</td>\n",
              "      <td>0</td>\n",
              "      <td>0</td>\n",
              "      <td>0</td>\n",
              "      <td>0</td>\n",
              "      <td>0</td>\n",
              "      <td>1</td>\n",
              "      <td>0</td>\n",
              "      <td>0</td>\n",
              "      <td>1</td>\n",
              "      <td>1</td>\n",
              "      <td>../input/petfinder-pawpularity-score/test/e0de...</td>\n",
              "    </tr>\n",
              "  </tbody>\n",
              "</table>\n",
              "</div>"
            ],
            "text/plain": [
              "                                 Id  Subject Focus  Eyes  Face  Near  Action  \\\n",
              "0  4128bae22183829d2b5fea10effdb0c3              1     0     1     0       0   \n",
              "1  43a2262d7738e3d420d453815151079e              0     1     0     0       0   \n",
              "2  4e429cead1848a298432a0acad014c9d              0     0     0     1       0   \n",
              "3  80bc3ccafcc51b66303c2c263aa38486              1     0     1     0       0   \n",
              "4  8f49844c382931444e68dffbe20228f4              1     1     1     0       1   \n",
              "5  b03f7041962238a7c9d6537e22f9b017              0     0     1     1       1   \n",
              "6  c978013571258ed6d4637f6e8cc9d6a3              1     0     0     0       1   \n",
              "7  e0de453c1bffc20c22b072b34b54e50f              1     0     1     0       0   \n",
              "\n",
              "   Accessory  Group  Collage  Human  Occlusion  Info  Blur  Pawpularity  \\\n",
              "0          1      1        0      0          1     0     1            1   \n",
              "1          0      1        1      0          0     0     0            1   \n",
              "2          1      1        1      0          1     1     1            1   \n",
              "3          0      0        0      0          0     1     0            1   \n",
              "4          1      0        1      0          1     1     0            1   \n",
              "5          1      1        1      1          0     1     0            1   \n",
              "6          1      0        1      0          1     1     1            1   \n",
              "7          0      0        0      1          0     0     1            1   \n",
              "\n",
              "                                                path  \n",
              "0  ../input/petfinder-pawpularity-score/test/4128...  \n",
              "1  ../input/petfinder-pawpularity-score/test/43a2...  \n",
              "2  ../input/petfinder-pawpularity-score/test/4e42...  \n",
              "3  ../input/petfinder-pawpularity-score/test/80bc...  \n",
              "4  ../input/petfinder-pawpularity-score/test/8f49...  \n",
              "5  ../input/petfinder-pawpularity-score/test/b03f...  \n",
              "6  ../input/petfinder-pawpularity-score/test/c978...  \n",
              "7  ../input/petfinder-pawpularity-score/test/e0de...  "
            ]
          },
          "execution_count": 8,
          "metadata": {},
          "output_type": "execute_result"
        }
      ],
      "source": [
        "test_df = pd.read_csv('/kaggle/input/petfinder-pawpularity-score/test.csv')\n",
        "test_df['Pawpularity'] = [1]*len(test_df)\n",
        "test_df['path'] = test_df['Id'].map(lambda x:str(dataset_path/'test'/x)+'.jpg')\n",
        "test_df\n"
      ]
    },
    {
      "cell_type": "code",
      "execution_count": null,
      "id": "87f6adc5",
      "metadata": {
        "execution": {
          "iopub.execute_input": "2022-01-13T13:40:41.271298Z",
          "iopub.status.busy": "2022-01-13T13:40:41.270512Z",
          "iopub.status.idle": "2022-01-13T13:40:41.272524Z",
          "shell.execute_reply": "2022-01-13T13:40:41.272933Z",
          "shell.execute_reply.started": "2022-01-13T13:30:45.765875Z"
        },
        "papermill": {
          "duration": 0.019362,
          "end_time": "2022-01-13T13:40:41.273091",
          "exception": false,
          "start_time": "2022-01-13T13:40:41.253729",
          "status": "completed"
        },
        "tags": [],
        "id": "87f6adc5"
      },
      "outputs": [],
      "source": [
        "dataset = PetDataset(test_df, IMAGE_SIZE, aug=valid_transforms, target=False, channel_first=False)\n",
        "#plt.imshow(dataset.__getitem__(1)['image'].data)"
      ]
    },
    {
      "cell_type": "code",
      "execution_count": null,
      "id": "6b6b5c6b",
      "metadata": {
        "execution": {
          "iopub.execute_input": "2022-01-13T13:40:41.311935Z",
          "iopub.status.busy": "2022-01-13T13:40:41.311097Z",
          "iopub.status.idle": "2022-01-13T13:40:41.312927Z",
          "shell.execute_reply": "2022-01-13T13:40:41.313405Z",
          "shell.execute_reply.started": "2022-01-13T13:30:45.774416Z"
        },
        "papermill": {
          "duration": 0.027059,
          "end_time": "2022-01-13T13:40:41.313523",
          "exception": false,
          "start_time": "2022-01-13T13:40:41.286464",
          "status": "completed"
        },
        "tags": [],
        "id": "6b6b5c6b"
      },
      "outputs": [],
      "source": [
        "criterion = nn.BCEWithLogitsLoss()\n",
        "\n",
        "class PetModel(nn.Module):\n",
        "    def __init__(self, backbone_name, pretrained=True, loss=False):\n",
        "        super(PetModel, self).__init__()\n",
        "        self.backbone = timm.create_model(backbone_name, pretrained=pretrained, num_classes=NUM_TARGET, drop_rate=0.00, drop_path_rate=0.00)\n",
        "        self.loss = loss\n",
        "\n",
        "    def forward(self, input_dict, mixup=0):\n",
        "        x = input_dict['image']\n",
        "        if mixup:\n",
        "            batch_size = x.size(0)\n",
        "            perm = torch.randperm(batch_size).to(x.device)\n",
        "            x_perm = x[perm]\n",
        "            beta = torch.distributions.beta.Beta(torch.tensor([0.5]), torch.tensor([0.5]))\n",
        "            alpha = beta.sample(torch.tensor([batch_size])).to(x.device)\n",
        "            alpha = alpha.view((alpha.shape[0], 1, 1, 1))\n",
        "            x = alpha*x + (1 - alpha)*x_perm\n",
        "\n",
        "        x = self.backbone(x)\n",
        "        pred = torch.sigmoid(x).sum(1) / NUM_TARGET\n",
        "\n",
        "        loss = None\n",
        "        if self.loss:\n",
        "            #target = input_dict['target']\n",
        "            binary_target = input_dict['binary_target']\n",
        "            #binary_target = 1 - np.eye(num_class)[target].cumsum(1)[:, :-1]\n",
        "            binary_target = 1. - F.one_hot(binary_target, NUM_TARGET+1).cumsum(-1)[:, :, :-1].transpose(1, 2).squeeze(-1)\n",
        "            #print(binary_target.shape, x.shape)\n",
        "            if mixup:\n",
        "                target_perm = binary_target[perm]\n",
        "                alpha = alpha.view((alpha.shape[0], 1))\n",
        "                target = alpha*binary_target + (1 - alpha)*target_perm\n",
        "            loss = criterion(x, binary_target)\n",
        "        return {\n",
        "            'pred' : pred,\n",
        "            'loss' : loss,\n",
        "        }"
      ]
    },
    {
      "cell_type": "code",
      "execution_count": null,
      "id": "6ead781b",
      "metadata": {
        "execution": {
          "iopub.execute_input": "2022-01-13T13:40:41.350723Z",
          "iopub.status.busy": "2022-01-13T13:40:41.347824Z",
          "iopub.status.idle": "2022-01-13T13:40:41.353229Z",
          "shell.execute_reply": "2022-01-13T13:40:41.352664Z",
          "shell.execute_reply.started": "2022-01-13T13:30:45.790146Z"
        },
        "papermill": {
          "duration": 0.026228,
          "end_time": "2022-01-13T13:40:41.353337",
          "exception": false,
          "start_time": "2022-01-13T13:40:41.327109",
          "status": "completed"
        },
        "tags": [],
        "id": "6ead781b"
      },
      "outputs": [],
      "source": [
        "def test_epoch(loader, model, device):\n",
        "\n",
        "    model.eval()\n",
        "    LOGITS = []\n",
        "\n",
        "    with torch.no_grad():\n",
        "        if 1:\n",
        "            if VERBOSE is not None:\n",
        "                bar = tqdm(range(len(loader)))\n",
        "            else:\n",
        "                bar = range(len(loader))\n",
        "            load_iter = iter(loader)\n",
        "            batch = load_iter.next()\n",
        "            batch = {k:batch[k].to(device, non_blocking=True) for k in batch.keys() }\n",
        "\n",
        "            for i in bar:\n",
        "                input_dict = batch.copy()\n",
        "                if i + 1 < len(loader):\n",
        "                    batch = load_iter.next()\n",
        "                    batch = {k:batch[k].to(device, non_blocking=True) for k in batch.keys() }\n",
        "\n",
        "                out_dict = model(input_dict)\n",
        "                pred = out_dict['pred']\n",
        "                LOGITS.append(pred.detach())\n",
        "\n",
        "\n",
        "    LOGITS = torch.cat(LOGITS).cpu().numpy().ravel()\n",
        "\n",
        "    return LOGITS\n",
        "\n",
        "def load_checkpoint(fold, seed, dirname, fname, test=False):\n",
        "    model = PetModel(BACKBONE, pretrained=(not test), loss=True).to(device)\n",
        "    checkpoint = torch.load('../input/%s/%s_%d_%d.pt' % (dirname, fname, fold, seed))\n",
        "    model.load_state_dict(checkpoint['model'])\n",
        "    model = model.half()\n",
        "    return model\n",
        "\n",
        "VERBOSE = None"
      ]
    },
    {
      "cell_type": "code",
      "execution_count": null,
      "id": "194a26f5",
      "metadata": {
        "execution": {
          "iopub.execute_input": "2022-01-13T13:40:41.383117Z",
          "iopub.status.busy": "2022-01-13T13:40:41.382597Z",
          "iopub.status.idle": "2022-01-13T13:40:41.386226Z",
          "shell.execute_reply": "2022-01-13T13:40:41.385794Z",
          "shell.execute_reply.started": "2022-01-13T13:30:45.803406Z"
        },
        "papermill": {
          "duration": 0.019443,
          "end_time": "2022-01-13T13:40:41.386326",
          "exception": false,
          "start_time": "2022-01-13T13:40:41.366883",
          "status": "completed"
        },
        "tags": [],
        "id": "194a26f5"
      },
      "outputs": [],
      "source": [
        "preds = []\n",
        ""
      ]
    },
    {
      "cell_type": "code",
      "execution_count": null,
      "id": "ef7b13b9",
      "metadata": {
        "execution": {
          "iopub.execute_input": "2022-01-13T13:40:41.418269Z",
          "iopub.status.busy": "2022-01-13T13:40:41.417453Z",
          "iopub.status.idle": "2022-01-13T13:44:54.298369Z",
          "shell.execute_reply": "2022-01-13T13:44:54.298791Z",
          "shell.execute_reply.started": "2022-01-13T13:30:45.818993Z"
        },
        "papermill": {
          "duration": 252.900157,
          "end_time": "2022-01-13T13:44:54.298943",
          "exception": false,
          "start_time": "2022-01-13T13:40:41.398786",
          "status": "completed"
        },
        "tags": [],
        "id": "ef7b13b9",
        "outputId": "f03bd83c-cfa6-463a-c1a5-39755ad0c528"
      },
      "outputs": [
        {
          "name": "stdout",
          "output_type": "stream",
          "text": [
            "pet_052\n"
          ]
        },
        {
          "name": "stderr",
          "output_type": "stream",
          "text": [
            "100%|██████████| 10/10 [04:12<00:00, 25.29s/it]\n"
          ]
        }
      ],
      "source": [
        "fname = 'pet_052'\n",
        "print(fname)\n",
        "#FOLDS = [1,2,3,4]\n",
        "device = torch.device('cuda')\n",
        "test_dataset = PetDataset(test_df, IMAGE_SIZE, target=False, aug=valid_transforms)\n",
        "for seed in [0]:\n",
        "    for fold in tqdm(FOLDS):\n",
        "        seed_torch(seed)\n",
        "\n",
        "\n",
        "        test_data_loader = DataLoader(\n",
        "            test_dataset,\n",
        "            batch_size=VALID_BATCH_SIZE,\n",
        "            num_workers=WORKERS,\n",
        "            shuffle=False,\n",
        "            #pin_memory=True,\n",
        "        )\n",
        "        model = load_checkpoint(fold, seed, 'pet-models',  fname, test=True)\n",
        "        pred = test_epoch(test_data_loader, model, device) * 100\n",
        "        preds.append(pred)\n",
        "        del test_data_loader, model\n",
        "        gc.collect()"
      ]
    },
    {
      "cell_type": "code",
      "execution_count": null,
      "id": "06fdce40",
      "metadata": {
        "execution": {
          "iopub.execute_input": "2022-01-13T13:44:54.339246Z",
          "iopub.status.busy": "2022-01-13T13:44:54.338359Z",
          "iopub.status.idle": "2022-01-13T13:46:59.003660Z",
          "shell.execute_reply": "2022-01-13T13:46:59.002743Z",
          "shell.execute_reply.started": "2022-01-13T13:34:31.645268Z"
        },
        "papermill": {
          "duration": 124.688029,
          "end_time": "2022-01-13T13:46:59.003822",
          "exception": false,
          "start_time": "2022-01-13T13:44:54.315793",
          "status": "completed"
        },
        "tags": [],
        "id": "06fdce40",
        "outputId": "1ddd8c53-25f4-43ed-921b-f332937b953a"
      },
      "outputs": [
        {
          "name": "stdout",
          "output_type": "stream",
          "text": [
            "pet_064\n"
          ]
        },
        {
          "name": "stderr",
          "output_type": "stream",
          "text": [
            "100%|██████████| 10/10 [02:04<00:00, 12.47s/it]\n"
          ]
        }
      ],
      "source": [
        "fname = 'pet_064'\n",
        "print(fname)\n",
        "#FOLDS = [1,2,3,4]\n",
        "device = torch.device('cuda')\n",
        "for seed in [0]:\n",
        "    for fold in tqdm(FOLDS):\n",
        "        seed_torch(seed)\n",
        "\n",
        "        test_data_loader = DataLoader(\n",
        "            test_dataset,\n",
        "            batch_size=VALID_BATCH_SIZE,\n",
        "            num_workers=WORKERS,\n",
        "            shuffle=False,\n",
        "            #pin_memory=True,\n",
        "        )\n",
        "        model = load_checkpoint(fold, seed, 'pet64model',  fname, test=True)\n",
        "        pred = test_epoch(test_data_loader, model, device) * 100\n",
        "        preds.append(pred)\n",
        "        del test_data_loader, model\n",
        "        gc.collect()"
      ]
    },
    {
      "cell_type": "code",
      "execution_count": null,
      "id": "1ee0e982",
      "metadata": {
        "execution": {
          "iopub.execute_input": "2022-01-13T13:46:59.049878Z",
          "iopub.status.busy": "2022-01-13T13:46:59.049344Z",
          "iopub.status.idle": "2022-01-13T13:46:59.073832Z",
          "shell.execute_reply": "2022-01-13T13:46:59.072976Z",
          "shell.execute_reply.started": "2022-01-13T13:36:47.274939Z"
        },
        "papermill": {
          "duration": 0.04933,
          "end_time": "2022-01-13T13:46:59.073957",
          "exception": false,
          "start_time": "2022-01-13T13:46:59.024627",
          "status": "completed"
        },
        "tags": [],
        "id": "1ee0e982"
      },
      "outputs": [],
      "source": [
        "preds = np.mean(preds, axis=0)\n",
        "sample_df = pd.read_csv(dataset_path/'sample_submission.csv')\n",
        "sample_df['Pawpularity'] = preds\n",
        "sample_df.to_csv('submission.csv',index=False)\n"
      ]
    },
    {
      "cell_type": "code",
      "execution_count": null,
      "id": "f212db4b",
      "metadata": {
        "execution": {
          "iopub.execute_input": "2022-01-13T13:46:59.122272Z",
          "iopub.status.busy": "2022-01-13T13:46:59.115827Z",
          "iopub.status.idle": "2022-01-13T13:46:59.126314Z",
          "shell.execute_reply": "2022-01-13T13:46:59.125886Z",
          "shell.execute_reply.started": "2022-01-13T13:36:47.298227Z"
        },
        "papermill": {
          "duration": 0.032667,
          "end_time": "2022-01-13T13:46:59.126426",
          "exception": false,
          "start_time": "2022-01-13T13:46:59.093759",
          "status": "completed"
        },
        "tags": [],
        "id": "f212db4b",
        "outputId": "707b6fda-167d-4493-f813-ac8bd031a89b"
      },
      "outputs": [
        {
          "data": {
            "text/html": [
              "<div>\n",
              "<style scoped>\n",
              "    .dataframe tbody tr th:only-of-type {\n",
              "        vertical-align: middle;\n",
              "    }\n",
              "\n",
              "    .dataframe tbody tr th {\n",
              "        vertical-align: top;\n",
              "    }\n",
              "\n",
              "    .dataframe thead th {\n",
              "        text-align: right;\n",
              "    }\n",
              "</style>\n",
              "<table border=\"1\" class=\"dataframe\">\n",
              "  <thead>\n",
              "    <tr style=\"text-align: right;\">\n",
              "      <th></th>\n",
              "      <th>Id</th>\n",
              "      <th>Pawpularity</th>\n",
              "    </tr>\n",
              "  </thead>\n",
              "  <tbody>\n",
              "    <tr>\n",
              "      <th>0</th>\n",
              "      <td>4128bae22183829d2b5fea10effdb0c3</td>\n",
              "      <td>40.18750</td>\n",
              "    </tr>\n",
              "    <tr>\n",
              "      <th>1</th>\n",
              "      <td>43a2262d7738e3d420d453815151079e</td>\n",
              "      <td>40.28125</td>\n",
              "    </tr>\n",
              "    <tr>\n",
              "      <th>2</th>\n",
              "      <td>4e429cead1848a298432a0acad014c9d</td>\n",
              "      <td>39.78125</td>\n",
              "    </tr>\n",
              "    <tr>\n",
              "      <th>3</th>\n",
              "      <td>80bc3ccafcc51b66303c2c263aa38486</td>\n",
              "      <td>40.40625</td>\n",
              "    </tr>\n",
              "    <tr>\n",
              "      <th>4</th>\n",
              "      <td>8f49844c382931444e68dffbe20228f4</td>\n",
              "      <td>40.00000</td>\n",
              "    </tr>\n",
              "    <tr>\n",
              "      <th>5</th>\n",
              "      <td>b03f7041962238a7c9d6537e22f9b017</td>\n",
              "      <td>39.96875</td>\n",
              "    </tr>\n",
              "    <tr>\n",
              "      <th>6</th>\n",
              "      <td>c978013571258ed6d4637f6e8cc9d6a3</td>\n",
              "      <td>39.31250</td>\n",
              "    </tr>\n",
              "    <tr>\n",
              "      <th>7</th>\n",
              "      <td>e0de453c1bffc20c22b072b34b54e50f</td>\n",
              "      <td>40.15625</td>\n",
              "    </tr>\n",
              "  </tbody>\n",
              "</table>\n",
              "</div>"
            ],
            "text/plain": [
              "                                 Id  Pawpularity\n",
              "0  4128bae22183829d2b5fea10effdb0c3     40.18750\n",
              "1  43a2262d7738e3d420d453815151079e     40.28125\n",
              "2  4e429cead1848a298432a0acad014c9d     39.78125\n",
              "3  80bc3ccafcc51b66303c2c263aa38486     40.40625\n",
              "4  8f49844c382931444e68dffbe20228f4     40.00000\n",
              "5  b03f7041962238a7c9d6537e22f9b017     39.96875\n",
              "6  c978013571258ed6d4637f6e8cc9d6a3     39.31250\n",
              "7  e0de453c1bffc20c22b072b34b54e50f     40.15625"
            ]
          },
          "execution_count": 16,
          "metadata": {},
          "output_type": "execute_result"
        }
      ],
      "source": [
        "sample_df"
      ]
    },
    {
      "cell_type": "code",
      "execution_count": null,
      "id": "4a44bcc7",
      "metadata": {
        "papermill": {
          "duration": 0.020124,
          "end_time": "2022-01-13T13:46:59.166935",
          "exception": false,
          "start_time": "2022-01-13T13:46:59.146811",
          "status": "completed"
        },
        "tags": [],
        "id": "4a44bcc7"
      },
      "outputs": [],
      "source": []
    }
  ],
  "metadata": {
    "kernelspec": {
      "display_name": "Python 3",
      "language": "python",
      "name": "python3"
    },
    "language_info": {
      "codemirror_mode": {
        "name": "ipython",
        "version": 3
      },
      "file_extension": ".py",
      "mimetype": "text/x-python",
      "name": "python",
      "nbconvert_exporter": "python",
      "pygments_lexer": "ipython3",
      "version": "3.7.12"
    },
    "papermill": {
      "default_parameters": {},
      "duration": 393.428999,
      "end_time": "2022-01-13T13:47:01.471379",
      "environment_variables": {},
      "exception": null,
      "input_path": "__notebook__.ipynb",
      "output_path": "__notebook__.ipynb",
      "parameters": {},
      "start_time": "2022-01-13T13:40:28.042380",
      "version": "2.3.3"
    },
    "colab": {
      "provenance": []
    }
  },
  "nbformat": 4,
  "nbformat_minor": 5
}